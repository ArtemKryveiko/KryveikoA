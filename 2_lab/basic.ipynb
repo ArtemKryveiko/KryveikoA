{
  "cells": [
    {
      "cell_type": "markdown",
      "metadata": {},
      "source": [
        "## Основні типи даних"
      ]
    },
    {
      "cell_type": "code",
      "execution_count": 1,
      "metadata": {
        "trusted": true
      },
      "outputs": [],
      "source": [
        "a = \"змінна з текстом\"\n",
        "b = 1  # числова Змінна\n",
        "c = [\"a\", 1, 1.25, \"Слово\"]  # List\n",
        "d = {\"a\": \"Слово\", \"b\": 1}  # Dict\n",
        "e = (\"a\",)  # Tuple\n",
        "f = {\"ss\", }  # Set"
      ]
    },
    {
      "cell_type": "markdown",
      "metadata": {},
      "source": [
        "## Виведення вбудованих констант"
      ]
    },
    {
      "cell_type": "code",
      "execution_count": 2,
      "metadata": {
        "trusted": true
      },
      "outputs": [
        {
          "name": "stdout",
          "output_type": "stream",
          "text": [
            "Перша константа: False\n",
            "Друга константа: None\n"
          ]
        }
      ],
      "source": [
        "print(\"Перша константа:\", False)\n",
        "print(\"Друга константа:\", None)"
      ]
    },
    {
      "cell_type": "markdown",
      "metadata": {},
      "source": [
        "## Виведення результату вбудованих функцій"
      ]
    },
    {
      "cell_type": "code",
      "execution_count": 3,
      "metadata": {
        "trusted": true
      },
      "outputs": [
        {
          "name": "stdout",
          "output_type": "stream",
          "text": [
            "Модуль числа: 12.5 є рівним 12.5\n",
            "Довжина списку c: 4\n"
          ]
        }
      ],
      "source": [
        "print(\"Модуль числа:\", abs(-12.5), f\"є рівним {abs(12.5)}\")\n",
        "print(\"Довжина списку c:\", len(c))"
      ]
    },
    {
      "cell_type": "markdown",
      "metadata": {},
      "source": [
        "## Цикли"
      ]
    },
    {
      "cell_type": "code",
      "execution_count": 4,
      "metadata": {
        "trusted": true
      },
      "outputs": [
        {
          "name": "stdout",
          "output_type": "stream",
          "text": [
            "На позиції 0 знаходиться буква a\n",
            "На позиції 1 знаходиться буква b\n",
            "На позиції 2 знаходиться буква c\n"
          ]
        }
      ],
      "source": [
        "letters = [\"a\", \"b\", \"c\"]\n",
        "for i in range(len(letters)):\n",
        "    print(f\"На позиції {i} знаходиться буква {letters[i]}\")"
      ]
    },
    {
      "cell_type": "markdown",
      "metadata": {},
      "source": [
        "## Розгалуження"
      ]
    },
    {
      "cell_type": "code",
      "execution_count": 5,
      "metadata": {
        "trusted": true
      },
      "outputs": [
        {
          "name": "stdout",
          "output_type": "stream",
          "text": [
            "Значить А=True\n"
          ]
        }
      ],
      "source": [
        "A = True\n",
        "print(\"Значить А=True\" if A else \"Значить А=False\")"
      ]
    },
    {
      "cell_type": "markdown",
      "metadata": {},
      "source": [
        "## Конструкція try->except->finally"
      ]
    },
    {
      "cell_type": "code",
      "execution_count": 6,
      "metadata": {
        "trusted": true
      },
      "outputs": [
        {
          "name": "stdout",
          "output_type": "stream",
          "text": [
            "Помилка: division by zero\n",
            "А вот воно що!\n"
          ]
        }
      ],
      "source": [
        "A = 0\n",
        "try:\n",
        "    print(\"Що буде якщо\", 10/A, \"?\")\n",
        "except Exception as e:\n",
        "    print(f\"Помилка: {e}\")\n",
        "finally:\n",
        "    print(\"А вот воно що!\")"
      ]
    },
    {
      "cell_type": "markdown",
      "metadata": {},
      "source": [
        "## Лямбда"
      ]
    },
    {
      "cell_type": "code",
      "execution_count": 7,
      "metadata": {
        "trusted": true
      },
      "outputs": [
        {
          "name": "stdout",
          "output_type": "stream",
          "text": [
            "Це просто функція: <function <lambda> at 0x00000236F7A74EA0>\n",
            "Це її виклик: Цей код написав: Артем Кривейко\n"
          ]
        }
      ],
      "source": [
        "this_is_lambda = lambda first, last: f'Цей код написав: {first} {last}'\n",
        "print(\"Це просто функція:\", this_is_lambda)\n",
        "print(\"Це її виклик:\", this_is_lambda('Артем', 'Кривейко'))"
      ]
    }
  ],
  "metadata": {
    "kernelspec": {
      "display_name": "Python 3",
      "language": "python",
      "name": "python3"
    },
    "language_info": {
      "codemirror_mode": {
        "name": "ipython",
        "version": 3
      },
      "file_extension": ".py",
      "mimetype": "text/x-python",
      "name": "python",
      "nbconvert_exporter": "python",
      "pygments_lexer": "ipython3",
      "version": "3.12.0"
    }
  },
  "nbformat": 4,
  "nbformat_minor": 4
}
