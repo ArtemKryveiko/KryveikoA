{
  "metadata": {
    "kernelspec": {
      "name": "python",
      "display_name": "Python (Pyodide)",
      "language": "python"
    },
    "language_info": {
      "codemirror_mode": {
        "name": "python",
        "version": 3
      },
      "file_extension": ".py",
      "mimetype": "text/x-python",
      "name": "python",
      "nbconvert_exporter": "python",
      "pygments_lexer": "ipython3",
      "version": "3.8"
    }
  },
  "nbformat_minor": 4,
  "nbformat": 4,
  "cells": [
    {
      "cell_type": "markdown",
      "source": "### Імпорт бібліотек\r\nfrom datetime import datetime\r\n\r\n### Визначаємо змінні\r\nname = \"Artem\"\r\nlocation = \"Lviv\"\r\n\r\n### Виводимо повідомлення з використанням f-рядка для форматування рядка\r\nprint(f\"{name} start programming at {datetime.now()}. {location} is the best city!\")",
      "metadata": {}
    },
    {
      "cell_type": "markdown",
      "source": "### Програма від ChatGPT",
      "metadata": {}
    },
    {
      "cell_type": "markdown",
      "source": "### Імпорт бібліотек\nfrom datetime import datetime\n\n### Визначаємо змінні\nname = \"Artem\"\nlocation = \"Lviv\"\n\n### Виводимо повідомлення з використанням f-рядка для форматування рядка\nprint(f\"{name} start programming at {datetime.now()}. {location} is the best city!\")\n",
      "metadata": {}
    }
  ]
}